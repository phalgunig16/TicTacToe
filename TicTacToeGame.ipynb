{
 "cells": [
  {
   "cell_type": "markdown",
   "metadata": {},
   "source": [
    "# Tic Tac Toe Game (2 Players)\n",
    "\n",
    "    -- Phalguni G.\n",
    "    -- First draft: Dec. 20, 2021."
   ]
  },
  {
   "cell_type": "markdown",
   "metadata": {},
   "source": [
    "Steps:\n",
    "\n",
    "1. Draw a board:\n",
    "    - place numbers in the board 1-9\n",
    "2. Assign Markers:\n",
    "    - Ask players to choose marker - X or O\n",
    "3. Choose turns:\n",
    "    - Randomly select a player to go first\n",
    "4. Winning Conditions:\n",
    "    - Define winning patterns in function\n",
    "5. Display board:\n",
    "    - **Place marker:** replace the number on board with marker once turn is over\n",
    "    - Display available positions to choose for the next player\n",
    "6. Win check:\n",
    "    - Check for winning conditons ('Winning Conditons' func.) after every turn.\n",
    "    - if not satisfied, continue playing\n",
    "    - if satisfied, break. End Game.\n",
    "7. END"
   ]
  },
  {
   "cell_type": "code",
   "execution_count": null,
   "metadata": {},
   "outputs": [],
   "source": [
    "from IPython.display import clear_output"
   ]
  },
  {
   "cell_type": "code",
   "execution_count": null,
   "metadata": {},
   "outputs": [],
   "source": [
    "## Display Board\n",
    "\n",
    "def display_board(board):\n",
    "    #print(\"Welcome to TIC TAC TOE\\n\")\n",
    "    print(' '+board[1]+'| '+board[2]+'| '+board[3])\n",
    "    print(' ------')\n",
    "    print(' '+board[4]+'| '+board[5]+'| '+board[6])\n",
    "    print(' ------')\n",
    "    print(' '+board[7]+'| '+board[8]+'| '+board[9])\n",
    "        "
   ]
  },
  {
   "cell_type": "code",
   "execution_count": null,
   "metadata": {},
   "outputs": [],
   "source": [
    "# Assign Markers\n",
    "\n",
    "def pick_marker():\n",
    "    marker = ''\n",
    "    while (True):\n",
    "        if (marker != 'X')or(marker!='O'):\n",
    "            marker = input(\"Player 1 please pick a marker, X or O: \").upper()\n",
    "            \n",
    "            clear_output()\n",
    "            \n",
    "            print(\"Error. Incorrect input. Try again\")\n",
    "        if marker == 'X':\n",
    "            return ('X','O')\n",
    "        elif marker == 'O':\n",
    "            return ('O','X')  \n"
   ]
  },
  {
   "cell_type": "code",
   "execution_count": null,
   "metadata": {},
   "outputs": [],
   "source": [
    "# Random player selections\n",
    "\n",
    "import random\n",
    "\n",
    "def random_pick():\n",
    "    player = ['Player 1','Player 2']\n",
    "    \n",
    "    return random.choice(player)\n"
   ]
  },
  {
   "cell_type": "code",
   "execution_count": null,
   "metadata": {},
   "outputs": [],
   "source": [
    "# Winning conditions\n",
    "\n",
    "def win_con(mark,board):\n",
    "    \n",
    "    if ((mark==board[1]==board[2]==board[3]) or\n",
    "        (mark==board[4]==board[5]==board[6]) or\n",
    "        (mark==board[7]==board[8]==board[9]) or\n",
    "        (mark==board[1]==board[4]==board[7]) or\n",
    "        (mark==board[2]==board[5]==board[8]) or\n",
    "        (mark==board[3]==board[6]==board[9]) or\n",
    "        (mark==board[1]==board[5]==board[9]) or\n",
    "        (mark==board[3]==board[5]==board[7])):\n",
    "        return (True)\n",
    "    else:\n",
    "        return (False)"
   ]
  },
  {
   "cell_type": "code",
   "execution_count": null,
   "metadata": {},
   "outputs": [],
   "source": [
    "def ask_player(board,mark):\n",
    "    num = ''\n",
    "    while num not in board:\n",
    "        num = input('Please pick a number from the board -> ')\n",
    "        clear_output()\n",
    "        print('Error')\n",
    "    board[int(num)] = mark\n",
    "    display_board(board)\n",
    "    return board"
   ]
  },
  {
   "cell_type": "code",
   "execution_count": null,
   "metadata": {},
   "outputs": [],
   "source": [
    "def display_pos(board):\n",
    "    display_board(board)\n",
    "    \n",
    "    pos = []\n",
    "    for i in board:\n",
    "        if (i!='X')and(i!='O'):\n",
    "            pos.append(i)\n",
    "    print('Available positions =', pos)"
   ]
  },
  {
   "cell_type": "code",
   "execution_count": null,
   "metadata": {},
   "outputs": [],
   "source": [
    "#### GAME ####"
   ]
  },
  {
   "cell_type": "code",
   "execution_count": null,
   "metadata": {},
   "outputs": [],
   "source": [
    "\n",
    "def game(board):\n",
    "    \n",
    "    print(\"Welcome to TIC TAC TOE. /n   Let's Start.\")\n",
    "\n",
    "    while True:          \n",
    "        \n",
    "        player_1, player_2 = pick_marker()                  # Players pick marker\n",
    "        print(\"Player 1's marker: \", player_1)              # Prints player's markers\n",
    "        print(\"Player 2's marker: \", player_2)\n",
    "        \n",
    "        player = random_pick()                              # Randomly picks a player to start\n",
    "        #print(player)\n",
    "\n",
    "        play_on = input(\"Are you ready to play? Y or N = \").upper()     # Ask Player to start\n",
    "        if play_on == 'Y':\n",
    "            play = True\n",
    "        else:\n",
    "            play = False \n",
    "        \n",
    "        if play == False:\n",
    "            print('THE END')\n",
    "                \n",
    "       \n",
    "        while play:                                             # If True start game\n",
    "            if player == 'Player 1':\n",
    "                \n",
    "                display_board(board)                             # Display current board         \n",
    "                print(\"Its Player 1's turn\")\n",
    "                mark = player_1                                  # Assign players marker to 'mark'\n",
    "                ask_player(board,mark)                           # Ask player to pick a number\n",
    "                clear_output()\n",
    "                \n",
    "                win = win_con(mark,board)                        # Check for winning condition\n",
    "                if win == True:\n",
    "                    print(\"PLAYER 1 has Won!!\")\n",
    "                    play = False\n",
    "                else:\n",
    "                    player = 'Player 2'\n",
    "            \n",
    "            else:\n",
    "               \n",
    "                display_board(board)\n",
    "                print(\"Its Player 2's turn\")\n",
    "                mark = player_2\n",
    "                ask_player(board,mark)\n",
    "                clear_output()\n",
    "                win = win_con(mark,board)\n",
    "                if win == True:\n",
    "                    print(\"PLAYER 2 has Won!!\")\n",
    "                    play = False\n",
    "                else:\n",
    "                    player = 'Player 1'\n",
    "        break\n",
    "                "
   ]
  },
  {
   "cell_type": "code",
   "execution_count": null,
   "metadata": {},
   "outputs": [],
   "source": [
    "default_board = ['0','1','2','3','4','5','6','7','8','9']"
   ]
  },
  {
   "cell_type": "code",
   "execution_count": null,
   "metadata": {},
   "outputs": [],
   "source": [
    "game(default_board)"
   ]
  },
  {
   "cell_type": "code",
   "execution_count": null,
   "metadata": {},
   "outputs": [],
   "source": []
  }
 ],
 "metadata": {
  "kernelspec": {
   "display_name": "Python 3",
   "language": "python",
   "name": "python3"
  },
  "language_info": {
   "codemirror_mode": {
    "name": "ipython",
    "version": 3
   },
   "file_extension": ".py",
   "mimetype": "text/x-python",
   "name": "python",
   "nbconvert_exporter": "python",
   "pygments_lexer": "ipython3",
   "version": "3.8.5"
  }
 },
 "nbformat": 4,
 "nbformat_minor": 4
}
